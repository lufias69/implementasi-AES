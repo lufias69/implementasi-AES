{
 "cells": [
  {
   "cell_type": "code",
   "execution_count": 1,
   "metadata": {},
   "outputs": [],
   "source": [
    "#data\\kunci jawaban dosen\n",
    "import pandas as pd\n",
    "import numpy as np"
   ]
  },
  {
   "cell_type": "code",
   "execution_count": 2,
   "metadata": {},
   "outputs": [],
   "source": [
    "from os import listdir\n",
    "from os.path import isfile, join\n",
    "def dfile (path):\n",
    "    mypath = path\n",
    "    onlyfiles = [f for f in listdir(mypath) if isfile(join(mypath, f))]\n",
    "    return onlyfiles"
   ]
  },
  {
   "cell_type": "code",
   "execution_count": 4,
   "metadata": {},
   "outputs": [
    {
     "data": {
      "text/plain": [
       "['S1a.xlsx',\n",
       " 'S1b.xlsx',\n",
       " 'S2a.xlsx',\n",
       " 'S2b.xlsx',\n",
       " 'S3.xlsx',\n",
       " 'S4.xlsx',\n",
       " 'S5.xlsx']"
      ]
     },
     "execution_count": 4,
     "metadata": {},
     "output_type": "execute_result"
    }
   ],
   "source": [
    "jawaban_file = dfile (\"data/jawaban\")\n",
    "jawaban_file"
   ]
  },
  {
   "cell_type": "code",
   "execution_count": 5,
   "metadata": {},
   "outputs": [],
   "source": [
    "df = pd.read_excel(\"data\\kunci jawaban dosen\\kunci_jawaban_dosen.xlsx\")\n",
    "kode = df.kode.tolist()\n",
    "skor = df.skor.tolist()\n",
    "kunci_jawaban = df.jawaban_jawaban.tolist()"
   ]
  },
  {
   "cell_type": "code",
   "execution_count": 6,
   "metadata": {},
   "outputs": [],
   "source": [
    "from aes_class import AES"
   ]
  },
  {
   "cell_type": "markdown",
   "metadata": {},
   "source": [
    "# Menggunakan QE"
   ]
  },
  {
   "cell_type": "code",
   "execution_count": null,
   "metadata": {},
   "outputs": [
    {
     "name": "stdout",
     "output_type": "stream",
     "text": [
      "tf ngram\n",
      "# ..........................................tf ngram\n",
      "# ..........................................tf ngram\n",
      "# ."
     ]
    }
   ],
   "source": [
    "# model_dict = dict()\n",
    "dict_hasil = dict()\n",
    "\n",
    "# print(model.train([kj], [sk]))\n",
    "for jwb_f, kd, sk, kj in zip(jawaban_file, kode, skor, kunci_jawaban):\n",
    "    model=  AES.AES(tf=True, qe=True, ngram=True, n=1, stemming=True)\n",
    "    model.train([kj], [sk])\n",
    "    df = pd.read_excel(\"data/jawaban/\"+jwb_f)\n",
    "    jawaban_list = df.jawaban.tolist()\n",
    "    sim_list = list()\n",
    "    print(\"#\", end=\" \")\n",
    "#     print(jawaban_list)\n",
    "    for j in jawaban_list:\n",
    "        model.predict(j)\n",
    "        similarity = model.hasil_cosine_similarity\n",
    "        sim_list.append(similarity)\n",
    "        print(\".\", end=\"\")\n",
    "    dict_hasil.update({kd:sim_list})\n",
    "#     model_dict.update({kd:md})"
   ]
  },
  {
   "cell_type": "markdown",
   "metadata": {},
   "source": [
    "# Tanpa QE"
   ]
  },
  {
   "cell_type": "code",
   "execution_count": null,
   "metadata": {},
   "outputs": [],
   "source": [
    "# model_dict = dict()\n",
    "dict_hasilTanpa = dict()\n",
    "\n",
    "# print(model.train([kj], [sk]))\n",
    "for jwb_f, kd, sk, kj in zip(jawaban_file, kode, skor, kunci_jawaban):\n",
    "    model=  AES.AES(tf=True, qe=False, ngram=True, n=1, stemming=True)\n",
    "    model.train([kj], [sk])\n",
    "    df = pd.read_excel(\"data/jawaban/\"+jwb_f)\n",
    "    jawaban_list = df.jawaban.tolist()\n",
    "    sim_list = list()\n",
    "    print(\"#\", end=\" \")\n",
    "#     print(jawaban_list)\n",
    "    for j in jawaban_list:\n",
    "        model.predict(j)\n",
    "        similarity = model.hasil_cosine_similarity\n",
    "        sim_list.append(similarity)\n",
    "        print(\".\", end=\"\")\n",
    "    dict_hasilTanpa.update({kd:sim_list})\n",
    "#     model_dict.update({kd:md})"
   ]
  },
  {
   "cell_type": "code",
   "execution_count": null,
   "metadata": {},
   "outputs": [],
   "source": []
  }
 ],
 "metadata": {
  "kernelspec": {
   "display_name": "Python 3",
   "language": "python",
   "name": "python3"
  },
  "language_info": {
   "codemirror_mode": {
    "name": "ipython",
    "version": 3
   },
   "file_extension": ".py",
   "mimetype": "text/x-python",
   "name": "python",
   "nbconvert_exporter": "python",
   "pygments_lexer": "ipython3",
   "version": "3.7.6"
  }
 },
 "nbformat": 4,
 "nbformat_minor": 4
}
