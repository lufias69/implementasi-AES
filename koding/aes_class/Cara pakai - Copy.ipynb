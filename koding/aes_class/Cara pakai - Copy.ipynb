{
 "cells": [
  {
   "cell_type": "code",
   "execution_count": 1,
   "metadata": {},
   "outputs": [],
   "source": [
    "import pandas as pd\n",
    "import AES"
   ]
  },
  {
   "cell_type": "code",
   "execution_count": 4,
   "metadata": {},
   "outputs": [],
   "source": [
    "#data\n",
    "kunci_jawaban = [\"makan nasi goreng\",\n",
    "     \"makan nasi putih\",\n",
    "      \"makan nasi kuning\",\n",
    "      \"saya makan nasi merah\",\n",
    "      \"buaya makan saya\"\n",
    "     ]\n",
    "\n",
    "label = [1,2,3,4,5]"
   ]
  },
  {
   "cell_type": "code",
   "execution_count": 26,
   "metadata": {},
   "outputs": [],
   "source": [
    "#membuat model\n",
    "model=  AES.AES(ngram=True)"
   ]
  },
  {
   "cell_type": "code",
   "execution_count": 27,
   "metadata": {},
   "outputs": [],
   "source": [
    "#melatih model\n",
    "model.train(kunci_jawaban, label)"
   ]
  },
  {
   "cell_type": "code",
   "execution_count": 28,
   "metadata": {},
   "outputs": [
    {
     "data": {
      "text/plain": [
       "5"
      ]
     },
     "execution_count": 28,
     "metadata": {},
     "output_type": "execute_result"
    }
   ],
   "source": [
    "#mempredikti jawaban baru\n",
    "model.predict(\"buaya makan saya\")"
   ]
  },
  {
   "cell_type": "code",
   "execution_count": 29,
   "metadata": {},
   "outputs": [
    {
     "data": {
      "text/plain": [
       "['buaya', 'goreng', 'kuning', 'makan', 'merah', 'nasi', 'putih', 'saya']"
      ]
     },
     "execution_count": 29,
     "metadata": {},
     "output_type": "execute_result"
    }
   ],
   "source": [
    "#melihat fitu\n",
    "model.fitur"
   ]
  },
  {
   "cell_type": "code",
   "execution_count": 38,
   "metadata": {},
   "outputs": [
    {
     "name": "stdout",
     "output_type": "stream",
     "text": [
      "bobot jawaban:\n",
      " [0.72971837 0.         0.         0.34771471 0.         0.\n",
      " 0.         0.58873218]\n",
      "\n",
      "bobot kunci jawaban ke-1\n",
      "[0.         0.80465933 0.         0.38342448 0.         0.45333103\n",
      " 0.         0.        ]\n",
      "\n",
      "bobot kunci jawaban ke-2\n",
      "[0.         0.         0.         0.38342448 0.         0.45333103\n",
      " 0.80465933 0.        ]\n",
      "\n",
      "bobot kunci jawaban ke-3\n",
      "[0.         0.         0.80465933 0.38342448 0.         0.45333103\n",
      " 0.         0.        ]\n",
      "\n",
      "bobot kunci jawaban ke-4\n",
      "[0.         0.         0.         0.32159819 0.67490991 0.38023247\n",
      " 0.         0.54451307]\n",
      "\n",
      "bobot kunci jawaban ke-5\n",
      "[0.72971837 0.         0.         0.34771471 0.         0.\n",
      " 0.         0.58873218]\n",
      "\n"
     ]
    }
   ],
   "source": [
    "# melihat bobot index ke 0 adalah kunci jawaban, inde ke 1 adalah jawaban\n",
    "print(\"bobot jawaban:\\n\", model.bobot[0][1])\n",
    "print(\"\")\n",
    "for ix, i in enumerate(model.bobot):\n",
    "    print(\"bobot kunci jawaban ke-\"+str(ix+1))\n",
    "    print (i[0])\n",
    "    print(\"\")"
   ]
  },
  {
   "cell_type": "code",
   "execution_count": 46,
   "metadata": {},
   "outputs": [
    {
     "name": "stdout",
     "output_type": "stream",
     "text": [
      "bobot kunci jawaban\n",
      "[0.         0.         0.         0.32159819 0.67490991 0.38023247\n",
      " 0.         0.54451307]\n",
      "\n",
      "bobot jawaban\n",
      " [0.72971837 0.         0.         0.34771471 0.         0.\n",
      " 0.         0.58873218]\n"
     ]
    }
   ],
   "source": [
    "# contoh, ingin melihat bobot kunci jawaban ke 2 [2-1]\n",
    "kunci_jawaban_ke = 4\n",
    "print(\"bobot kunci jawaban\")\n",
    "print(model.bobot[kunci_jawaban_ke-1][0])\n",
    "\n",
    "print(\"\")\n",
    "print(\"bobot jawaban\\n\",model.bobot[0][1] )"
   ]
  },
  {
   "cell_type": "code",
   "execution_count": 47,
   "metadata": {},
   "outputs": [
    {
     "name": "stdout",
     "output_type": "stream",
     "text": [
      "cosine antara kunci jawaban ke 4 dan jawaban\n"
     ]
    },
    {
     "data": {
      "text/plain": [
       "0.4323967894052532"
      ]
     },
     "execution_count": 47,
     "metadata": {},
     "output_type": "execute_result"
    }
   ],
   "source": [
    "#melihat similarity\n",
    "print(\"cosine antara kunci jawaban ke\",kunci_jawaban_ke, \"dan jawaban\")\n",
    "model.hasil_cosine_similarity[kunci_jawaban_ke-1] #jangan diubah"
   ]
  },
  {
   "cell_type": "code",
   "execution_count": 48,
   "metadata": {},
   "outputs": [
    {
     "data": {
      "text/plain": [
       "[0.1333223336568055,\n",
       " 0.1333223336568055,\n",
       " 0.1333223336568055,\n",
       " 0.4323967894052532,\n",
       " 1.0]"
      ]
     },
     "execution_count": 48,
     "metadata": {},
     "output_type": "execute_result"
    }
   ],
   "source": [
    "#melihat semua similarity\n",
    "model.hasil_cosine_similarity"
   ]
  },
  {
   "cell_type": "code",
   "execution_count": null,
   "metadata": {},
   "outputs": [],
   "source": []
  }
 ],
 "metadata": {
  "kernelspec": {
   "display_name": "Python 3",
   "language": "python",
   "name": "python3"
  },
  "language_info": {
   "codemirror_mode": {
    "name": "ipython",
    "version": 3
   },
   "file_extension": ".py",
   "mimetype": "text/x-python",
   "name": "python",
   "nbconvert_exporter": "python",
   "pygments_lexer": "ipython3",
   "version": "3.7.3"
  }
 },
 "nbformat": 4,
 "nbformat_minor": 2
}
