{
 "cells": [
  {
   "cell_type": "code",
   "execution_count": 1,
   "metadata": {},
   "outputs": [],
   "source": [
    "from os import listdir\n",
    "from os.path import isfile, join\n",
    "def dfile (path):\n",
    "    mypath = path\n",
    "    onlyfiles = [f for f in listdir(mypath) if isfile(join(mypath, f))]\n",
    "    return onlyfiles"
   ]
  },
  {
   "cell_type": "code",
   "execution_count": 2,
   "metadata": {},
   "outputs": [
    {
     "data": {
      "text/plain": [
       "'C:\\\\Users\\\\T\\\\Dropbox\\\\thesis soal essay\\\\koding'"
      ]
     },
     "execution_count": 2,
     "metadata": {},
     "output_type": "execute_result"
    }
   ],
   "source": [
    "pwd"
   ]
  },
  {
   "cell_type": "code",
   "execution_count": 4,
   "metadata": {},
   "outputs": [],
   "source": [
    "import pandas as pd\n"
   ]
  },
  {
   "cell_type": "code",
   "execution_count": null,
   "metadata": {},
   "outputs": [],
   "source": [
    "dict = {\n",
    "    \"S1\":{\n",
    "        \"skor\":[]\n",
    "        \"jawaban\":[]\n",
    "    }\n",
    "}"
   ]
  },
  {
   "cell_type": "code",
   "execution_count": 43,
   "metadata": {},
   "outputs": [
    {
     "name": "stdout",
     "output_type": "stream",
     "text": [
      "0 data1.xlsx\n",
      "1 data10.xlsx\n",
      "2 data11.xlsx\n",
      "3 data12.xlsx\n",
      "4 data13.xlsx\n",
      "5 data14.xlsx\n",
      "6 data15.xlsx\n",
      "7 data16.xlsx\n",
      "8 data17.xlsx\n",
      "9 data18.xlsx\n",
      "10 data19.xlsx\n",
      "11 data2.xlsx\n",
      "12 data20.xlsx\n",
      "13 data21.xlsx\n",
      "14 data22.xlsx\n",
      "15 data23.xlsx\n",
      "16 data24.xlsx\n",
      "17 data25.xlsx\n",
      "18 data26.xlsx\n",
      "19 data27.xlsx\n",
      "20 data28.xlsx\n",
      "21 data29.xlsx\n",
      "22 data3.xlsx\n",
      "23 data30.xlsx\n",
      "24 data31.xlsx\n",
      "25 data32.xlsx\n",
      "26 data33.xlsx\n",
      "27 data34.xlsx\n",
      "28 data35.xlsx\n",
      "29 data36.xlsx\n",
      "30 data37.xlsx\n",
      "31 data38.xlsx\n",
      "32 data39.xlsx\n",
      "33 data4.xlsx\n",
      "34 data40.xlsx\n",
      "35 data41.xlsx\n",
      "36 data42.xlsx\n",
      "37 data5.xlsx\n",
      "38 data6.xlsx\n",
      "39 data7.xlsx\n",
      "40 data8.xlsx\n",
      "41 data9.xlsx\n"
     ]
    }
   ],
   "source": [
    "for index, i in enumerate(dfile (r'C:\\Users\\T\\Dropbox\\thesis soal essay\\koding\\data')):\n",
    "    print(index, i)"
   ]
  },
  {
   "cell_type": "code",
   "execution_count": 44,
   "metadata": {},
   "outputs": [],
   "source": [
    "sheet_names = [\"S1a\", \"S1b\",\"S2a\",\"S2b\",\"S3\",\"S4\",\"S5\"]\n",
    "dict_data = dict()\n",
    "for i in sheet_names:\n",
    "    dict_data.update({i:{\"skor\":[],\"jawaban\":[]}})\n",
    "dict_data\n",
    "for i in dfile (r'C:\\Users\\T\\Dropbox\\thesis soal essay\\koding\\data'):\n",
    "    for sh in sheet_names:\n",
    "        df = pd.read_excel(\"data/\"+i, sheet_name = sh)\n",
    "        dict_data[sh][\"skor\"].append(df.skor.tolist()[0])\n",
    "        dict_data[sh][\"jawaban\"].append(df.jawaban.tolist()[0])\n"
   ]
  },
  {
   "cell_type": "code",
   "execution_count": 54,
   "metadata": {},
   "outputs": [],
   "source": [
    "for key, value in dict_data.items():\n",
    "    df = pd.DataFrame.from_dict(value)\n",
    "    df.to_excel(\"soal/\"+key+\"_jawaban.xlsx\")"
   ]
  },
  {
   "cell_type": "code",
   "execution_count": 38,
   "metadata": {},
   "outputs": [
    {
     "data": {
      "text/plain": [
       "9"
      ]
     },
     "execution_count": 38,
     "metadata": {},
     "output_type": "execute_result"
    }
   ],
   "source": [
    "len(dict_data['S1a'][\"skor\"])"
   ]
  },
  {
   "cell_type": "code",
   "execution_count": 47,
   "metadata": {},
   "outputs": [
    {
     "name": "stdout",
     "output_type": "stream",
     "text": [
      "a)\tPerkembangan aplikasi berbasis mobile yang akan muncul di masa depan adalah segala sesuatu atau kegiatan manusia yang sekarang masih  manual akan berubah menjadi otomatis melalui mobile seperti mobile payment (pembayaran melalui mobile), melakukan pekerjaan rumah seperti : menyalakan lampu, TV dll hanya menggunakan mobile dll.\n",
      "15\n"
     ]
    }
   ],
   "source": [
    "print(dict_data['S2a']['jawaban'][4])\n",
    "print(dict_data['S2a']['skor'][4])"
   ]
  },
  {
   "cell_type": "code",
   "execution_count": null,
   "metadata": {},
   "outputs": [],
   "source": []
  },
  {
   "cell_type": "code",
   "execution_count": 14,
   "metadata": {},
   "outputs": [
    {
     "data": {
      "text/html": [
       "<div>\n",
       "<style scoped>\n",
       "    .dataframe tbody tr th:only-of-type {\n",
       "        vertical-align: middle;\n",
       "    }\n",
       "\n",
       "    .dataframe tbody tr th {\n",
       "        vertical-align: top;\n",
       "    }\n",
       "\n",
       "    .dataframe thead th {\n",
       "        text-align: right;\n",
       "    }\n",
       "</style>\n",
       "<table border=\"1\" class=\"dataframe\">\n",
       "  <thead>\n",
       "    <tr style=\"text-align: right;\">\n",
       "      <th></th>\n",
       "      <th>urutan</th>\n",
       "      <th>skor</th>\n",
       "      <th>jawaban</th>\n",
       "    </tr>\n",
       "  </thead>\n",
       "  <tbody>\n",
       "    <tr>\n",
       "      <th>0</th>\n",
       "      <td>3</td>\n",
       "      <td>20</td>\n",
       "      <td>tahap - tahap perancangan sistem informasi \\n...</td>\n",
       "    </tr>\n",
       "  </tbody>\n",
       "</table>\n",
       "</div>"
      ],
      "text/plain": [
       "   urutan   skor                                            jawaban\n",
       "0        3    20   tahap - tahap perancangan sistem informasi \\n..."
      ]
     },
     "execution_count": 14,
     "metadata": {},
     "output_type": "execute_result"
    }
   ],
   "source": [
    "pd.read_excel(\"data/data1.xlsx\", sheet_name = \"S3\")"
   ]
  },
  {
   "cell_type": "code",
   "execution_count": 11,
   "metadata": {},
   "outputs": [
    {
     "data": {
      "text/plain": [
       "['data1.xlsx',\n",
       " 'data10.xlsx',\n",
       " 'data11.xlsx',\n",
       " 'data12.xlsx',\n",
       " 'data13.xlsx',\n",
       " 'data14.xlsx',\n",
       " 'data15.xlsx',\n",
       " 'data16.xlsx',\n",
       " 'data17.xlsx',\n",
       " 'data18.xlsx',\n",
       " 'data19.xlsx',\n",
       " 'data2.xlsx',\n",
       " 'data20.xlsx',\n",
       " 'data21.xlsx',\n",
       " 'data22.xlsx',\n",
       " 'data23.xlsx',\n",
       " 'data24.xlsx',\n",
       " 'data25.xlsx',\n",
       " 'data26.xlsx',\n",
       " 'data27.xlsx',\n",
       " 'data28.xlsx',\n",
       " 'data29.xlsx',\n",
       " 'data3.xlsx',\n",
       " 'data30.xlsx',\n",
       " 'data31.xlsx',\n",
       " 'data32.xlsx',\n",
       " 'data33.xlsx',\n",
       " 'data34.xlsx',\n",
       " 'data35.xlsx',\n",
       " 'data36.xlsx',\n",
       " 'data37.xlsx',\n",
       " 'data38.xlsx',\n",
       " 'data39.xlsx',\n",
       " 'data4.xlsx',\n",
       " 'data40.xlsx',\n",
       " 'data41.xlsx',\n",
       " 'data42.xlsx',\n",
       " 'data5.xlsx',\n",
       " 'data6.xlsx',\n",
       " 'data7.xlsx',\n",
       " 'data8.xlsx',\n",
       " 'data9.xlsx',\n",
       " '~$data1.xlsx']"
      ]
     },
     "execution_count": 11,
     "metadata": {},
     "output_type": "execute_result"
    }
   ],
   "source": [
    "dfile (r'C:\\Users\\T\\Dropbox\\thesis soal essay\\koding\\data')"
   ]
  },
  {
   "cell_type": "code",
   "execution_count": null,
   "metadata": {},
   "outputs": [],
   "source": []
  }
 ],
 "metadata": {
  "kernelspec": {
   "display_name": "Python 3",
   "language": "python",
   "name": "python3"
  },
  "language_info": {
   "codemirror_mode": {
    "name": "ipython",
    "version": 3
   },
   "file_extension": ".py",
   "mimetype": "text/x-python",
   "name": "python",
   "nbconvert_exporter": "python",
   "pygments_lexer": "ipython3",
   "version": "3.7.3"
  }
 },
 "nbformat": 4,
 "nbformat_minor": 2
}
