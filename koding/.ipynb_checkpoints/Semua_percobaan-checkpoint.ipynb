{
 "cells": [
  {
   "cell_type": "code",
   "execution_count": 3,
   "metadata": {},
   "outputs": [],
   "source": [
    "import pandas as pd\n",
    "from aes_class import AES\n",
    "import numpy as np"
   ]
  },
  {
   "cell_type": "code",
   "execution_count": 4,
   "metadata": {},
   "outputs": [],
   "source": [
    "from os import listdir\n",
    "from os.path import isfile, join\n",
    "def dfile (path):\n",
    "    mypath = path\n",
    "    onlyfiles = [f for f in listdir(mypath) if isfile(join(mypath, f))]\n",
    "    return onlyfiles"
   ]
  },
  {
   "cell_type": "code",
   "execution_count": 5,
   "metadata": {},
   "outputs": [
    {
     "data": {
      "text/plain": [
       "['S1a_jawaban.xlsx',\n",
       " 'S1b_jawaban.xlsx',\n",
       " 'S2a_jawaban.xlsx',\n",
       " 'S2b_jawaban.xlsx',\n",
       " 'S3_jawaban.xlsx',\n",
       " 'S4_jawaban.xlsx',\n",
       " 'S5_jawaban.xlsx']"
      ]
     },
     "execution_count": 5,
     "metadata": {},
     "output_type": "execute_result"
    }
   ],
   "source": [
    "files = dfile (\"soal\")\n",
    "files"
   ]
  },
  {
   "cell_type": "code",
   "execution_count": null,
   "metadata": {
    "scrolled": false
   },
   "outputs": [
    {
     "name": "stdout",
     "output_type": "stream",
     "text": [
      "Soal S1a_jawaban.xlsx\n",
      "......................22\n",
      "22\n",
      "22\n",
      "\n",
      "    skor_asli  skor_prediksi  similarity  \\\n",
      "0           5              5    0.295130   \n",
      "1           5              5    0.286930   \n",
      "2          10              5    0.311487   \n",
      "3           5              5    0.194134   \n",
      "4          10             10    0.487987   \n",
      "5           5              5    0.425791   \n",
      "6          10             10    0.539798   \n",
      "7           5              5    0.224548   \n",
      "8          10             10    0.474819   \n",
      "9           5              5    0.400543   \n",
      "10          5              5    0.237909   \n",
      "11          5              5    0.324881   \n",
      "12          5              5    0.223529   \n",
      "13          5              5    0.300356   \n",
      "14          0              5    0.493857   \n",
      "15          5              5    0.255326   \n",
      "16          5              5    0.345776   \n",
      "17          5              5    0.375916   \n",
      "18         10              5    0.534729   \n",
      "19          5              5    0.289590   \n",
      "20          5              5    0.332765   \n",
      "21          5              5    0.355050   \n",
      "\n",
      "                                        similarityAll  \n",
      "0   [0.09718712010134943, 0.18538050692056085, 0.1...  \n",
      "1   [0.21101322289111682, 0.10498390415992162, 0.2...  \n",
      "2   [0.2140502884322381, 0.25598964427668536, 0.31...  \n",
      "3   [0.1195462821182741, 0.13935968942488114, 0.16...  \n",
      "4   [0.06522989710184897, 0.09566379186862926, 0.0...  \n",
      "5   [0.10309016679411323, 0.25104533417321595, 0.3...  \n",
      "6   [0.16695523275668298, 0.05947902402610218, 0.1...  \n",
      "7   [0.15769228856050618, 0.22454832930570987, 0.2...  \n",
      "8   [0.07247199643339983, 0.10969511884190557, 0.1...  \n",
      "9   [0.05656301265157345, 0.1042880839281839, 0.09...  \n",
      "10  [0.1885799521997282, 0.17149055599922192, 0.23...  \n",
      "11  [0.2220911581419499, 0.21878859241908588, 0.32...  \n",
      "12  [0.19239486885112395, 0.1253831207597825, 0.20...  \n",
      "13  [0.22091889688048214, 0.09318112112436411, 0.3...  \n",
      "14  [0.1721041656868302, 0.4938574034959225, 0.327...  \n",
      "15  [0.2003230258894288, 0.1688423923285504, 0.248...  \n",
      "16  [0.20010798164853633, 0.2269698951405045, 0.34...  \n",
      "17  [0.20319628672976814, 0.2812948429087724, 0.37...  \n",
      "18  [0.010813842548549576, 0.03179012942630157, 0....  \n",
      "19  [0.20021628226943708, 0.23356376134779133, 0.2...  \n",
      "20  [0.12953047847123414, 0.2534629266868229, 0.18...  \n",
      "21  [0.26587023438004315, 0.22599473593654104, 0.3...  \n",
      "S1a_jawaban.xlsx\n",
      "Akurasi 0.8636363636363636\n",
      "======================================================================\n",
      "Soal S1b_jawaban.xlsx\n",
      "................"
     ]
    }
   ],
   "source": [
    "akurasi = list()\n",
    "\n",
    "for file in files:\n",
    "    print(\"Soal\",file)\n",
    "    df = pd.read_excel(\"soal/\"+file)\n",
    "    kode = df.kode.tolist()\n",
    "    skor = df.skor.tolist()\n",
    "    jawaban = df.jawaban.tolist()\n",
    "    # df.head()\n",
    "\n",
    "    skor_train = list()\n",
    "    jawaban_train = list()\n",
    "\n",
    "    skor_test = list()\n",
    "    jawaban_test = list()\n",
    "\n",
    "    for index, i in enumerate(kode):\n",
    "        if i==1:\n",
    "            skor_train.append(skor[index])\n",
    "            jawaban_train.append(jawaban[index])\n",
    "        else:\n",
    "            skor_test.append(skor[index])\n",
    "            jawaban_test.append(jawaban[index])\n",
    "\n",
    "    #buat model\n",
    "    model=  AES.AES()\n",
    "\n",
    "    #latih model\n",
    "    model.train(jawaban_train, skor_train)\n",
    "    skor_prediksi  = list()\n",
    "    similarity = list()\n",
    "    similarityAll = list()\n",
    "    #prediksi data latih\n",
    "    for jawaban_siswa in jawaban_test:\n",
    "        try:\n",
    "            print(\".\", end=\"\")\n",
    "            sc = model.predict(jawaban_siswa)\n",
    "            skor_prediksi.append(sc)\n",
    "            similarity.append(max(model.hasil_cosine_similarity))\n",
    "            similarityAll.append(model.hasil_cosine_similarity)\n",
    "        except:\n",
    "            print(jawaban_siswa)\n",
    "            skor_prediksi.append(0)\n",
    "            similarity.append(0)\n",
    "            similarityAll.append([0 for i in range(len(jawaban_train))])\n",
    "#     print(len(skor_prediksi))\n",
    "#     print(len(similarity))\n",
    "#     print(len(similarityAll))\n",
    "            \n",
    "    dict_={\n",
    "        \"skor_asli\":skor_test,\n",
    "        \"skor_prediksi\":skor_prediksi,\n",
    "        \"similarity\":similarity,\n",
    "        \"similarityAll\":similarityAll\n",
    "    }\n",
    "    print(\"\")\n",
    "    df = pd.DataFrame.from_dict(dict_)\n",
    "    print(df)\n",
    "    df.to_excel(\"hasil/hasil_\"+file)\n",
    "\n",
    "    #akurasi\n",
    "    from sklearn.metrics import accuracy_score\n",
    "    acc = accuracy_score(skor_test, skor_prediksi)\n",
    "    akurasi.append(acc)\n",
    "    print(file)\n",
    "    print(\"Akurasi\",acc)\n",
    "    print(\"=\"*70)"
   ]
  },
  {
   "cell_type": "code",
   "execution_count": 18,
   "metadata": {},
   "outputs": [
    {
     "data": {
      "text/html": [
       "<div>\n",
       "<style scoped>\n",
       "    .dataframe tbody tr th:only-of-type {\n",
       "        vertical-align: middle;\n",
       "    }\n",
       "\n",
       "    .dataframe tbody tr th {\n",
       "        vertical-align: top;\n",
       "    }\n",
       "\n",
       "    .dataframe thead th {\n",
       "        text-align: right;\n",
       "    }\n",
       "</style>\n",
       "<table border=\"1\" class=\"dataframe\">\n",
       "  <thead>\n",
       "    <tr style=\"text-align: right;\">\n",
       "      <th></th>\n",
       "      <th>soal</th>\n",
       "      <th>akurasi</th>\n",
       "    </tr>\n",
       "  </thead>\n",
       "  <tbody>\n",
       "    <tr>\n",
       "      <th>0</th>\n",
       "      <td>S1a_jawaban.xlsx</td>\n",
       "      <td>0.863636</td>\n",
       "    </tr>\n",
       "    <tr>\n",
       "      <th>1</th>\n",
       "      <td>S1b_jawaban.xlsx</td>\n",
       "      <td>0.772727</td>\n",
       "    </tr>\n",
       "    <tr>\n",
       "      <th>2</th>\n",
       "      <td>S2a_jawaban.xlsx</td>\n",
       "      <td>0.772727</td>\n",
       "    </tr>\n",
       "    <tr>\n",
       "      <th>3</th>\n",
       "      <td>S2b_jawaban.xlsx</td>\n",
       "      <td>0.590909</td>\n",
       "    </tr>\n",
       "    <tr>\n",
       "      <th>4</th>\n",
       "      <td>S3_jawaban.xlsx</td>\n",
       "      <td>0.818182</td>\n",
       "    </tr>\n",
       "    <tr>\n",
       "      <th>5</th>\n",
       "      <td>S4_jawaban.xlsx</td>\n",
       "      <td>0.772727</td>\n",
       "    </tr>\n",
       "    <tr>\n",
       "      <th>6</th>\n",
       "      <td>S5_jawaban.xlsx</td>\n",
       "      <td>0.727273</td>\n",
       "    </tr>\n",
       "  </tbody>\n",
       "</table>\n",
       "</div>"
      ],
      "text/plain": [
       "               soal   akurasi\n",
       "0  S1a_jawaban.xlsx  0.863636\n",
       "1  S1b_jawaban.xlsx  0.772727\n",
       "2  S2a_jawaban.xlsx  0.772727\n",
       "3  S2b_jawaban.xlsx  0.590909\n",
       "4   S3_jawaban.xlsx  0.818182\n",
       "5   S4_jawaban.xlsx  0.772727\n",
       "6   S5_jawaban.xlsx  0.727273"
      ]
     },
     "execution_count": 18,
     "metadata": {},
     "output_type": "execute_result"
    }
   ],
   "source": [
    "dit={\n",
    "    \"soal\":files,\n",
    "    \"akurasi\":akurasi\n",
    "}\n",
    "pd.DataFrame.from_dict(dit)"
   ]
  },
  {
   "cell_type": "code",
   "execution_count": 19,
   "metadata": {},
   "outputs": [
    {
     "data": {
      "text/plain": [
       "0.7597402597402597"
      ]
     },
     "execution_count": 19,
     "metadata": {},
     "output_type": "execute_result"
    }
   ],
   "source": [
    "sum(akurasi)/len(akurasi)"
   ]
  },
  {
   "cell_type": "code",
   "execution_count": null,
   "metadata": {},
   "outputs": [],
   "source": []
  }
 ],
 "metadata": {
  "kernelspec": {
   "display_name": "Python 3",
   "language": "python",
   "name": "python3"
  },
  "language_info": {
   "codemirror_mode": {
    "name": "ipython",
    "version": 3
   },
   "file_extension": ".py",
   "mimetype": "text/x-python",
   "name": "python",
   "nbconvert_exporter": "python",
   "pygments_lexer": "ipython3",
   "version": "3.7.3"
  }
 },
 "nbformat": 4,
 "nbformat_minor": 2
}
